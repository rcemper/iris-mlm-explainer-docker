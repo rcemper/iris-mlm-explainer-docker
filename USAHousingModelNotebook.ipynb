{
 "cells": [
  {
   "cell_type": "markdown",
   "metadata": {},
   "source": [
    "# USA Housing Model Notebook \n",
    "#### In this notebook we will create, train , validate, and do prediction by using InterSystems SQL Cloud"
   ]
  },
  {
   "cell_type": "markdown",
   "metadata": {},
   "source": [
    "<h1>Table of contents</h1>\n",
    "​\n",
    "<div class=\"alert alert-block alert-info\" style=\"margin-top: 20px\">\n",
    "    <ol>\n",
    "        <li><a href=\"#about_dataset\">About dataset</a></li>\n",
    "        <li><a href=\"#create\">Create table and import data</a></li>\n",
    "        <li><a href=\"#cm\">Create Model</a></li>\n",
    "        <li><a href=\"#tm\">Train Model</a></li>\n",
    "        <li><a href=\"#vm\">Validate Model</a></li>\n",
    "        <li><a href=\"#pr\">Do Prediction</a></li>   \n",
    "        <li><a href=\"#sm\">Summary</a></li>  \n",
    "    </ol>\n",
    "</div>\n",
    "<br>\n",
    "<hr>"
   ]
  },
  {
   "cell_type": "code",
   "execution_count": 2,
   "metadata": {},
   "outputs": [],
   "source": [
    "#import requried libraries\n",
    "import pandas as pd\n",
    "import numpy as np\n",
    "import matplotlib.pyplot as plt\n",
    "\n",
    "%matplotlib inline"
   ]
  },
  {
   "cell_type": "markdown",
   "metadata": {},
   "source": [
    "<div id=\"about_dataset\">\n",
    "    <h1>About dataset</h1>   \n",
    "</div>"
   ]
  },
  {
   "cell_type": "markdown",
   "metadata": {},
   "source": [
    "[USA Housing dataset](https://www.kaggle.com/datasets/vedavyasv/usa-housing) is taken from [Kaggle](https://www.kaggle.com/)<br> [LICENCE:Public Domain](https://docs.data.world/en/59261-59714-2--Common-license-types-for-datasets.html)\n",
    "\n",
    "USA_Housing dataset contains the following columns:\n",
    "\n",
    "- 'Avg. Area Income': Avg. The income of residents of the city house is located in.\n",
    "- 'Avg. Area House Age': Avg Age of Houses in the same city\n",
    "- 'Avg. Area Number of Rooms': Avg Number of Rooms for Houses in the same city\n",
    "- 'Avg. Area Number of Bedrooms': Avg Number of Bedrooms for Houses in the same city\n",
    "- 'Area Population': The population of city house is located in\n",
    "- 'Price': Price that the house sold at"
   ]
  },
  {
   "cell_type": "code",
   "execution_count": 3,
   "metadata": {},
   "outputs": [
    {
     "data": {
      "text/html": [
       "<div>\n",
       "<style scoped>\n",
       "    .dataframe tbody tr th:only-of-type {\n",
       "        vertical-align: middle;\n",
       "    }\n",
       "\n",
       "    .dataframe tbody tr th {\n",
       "        vertical-align: top;\n",
       "    }\n",
       "\n",
       "    .dataframe thead th {\n",
       "        text-align: right;\n",
       "    }\n",
       "</style>\n",
       "<table border=\"1\" class=\"dataframe\">\n",
       "  <thead>\n",
       "    <tr style=\"text-align: right;\">\n",
       "      <th></th>\n",
       "      <th>Avg. Area Income</th>\n",
       "      <th>Avg. Area House Age</th>\n",
       "      <th>Avg. Area Number of Rooms</th>\n",
       "      <th>Avg. Area Number of Bedrooms</th>\n",
       "      <th>Area Population</th>\n",
       "      <th>Price</th>\n",
       "    </tr>\n",
       "  </thead>\n",
       "  <tbody>\n",
       "    <tr>\n",
       "      <th>0</th>\n",
       "      <td>79545.45857</td>\n",
       "      <td>5.682861</td>\n",
       "      <td>7.009188</td>\n",
       "      <td>4.09</td>\n",
       "      <td>23086.80050</td>\n",
       "      <td>1.059034e+06</td>\n",
       "    </tr>\n",
       "    <tr>\n",
       "      <th>1</th>\n",
       "      <td>79248.64245</td>\n",
       "      <td>6.002900</td>\n",
       "      <td>6.730821</td>\n",
       "      <td>3.09</td>\n",
       "      <td>40173.07217</td>\n",
       "      <td>1.505891e+06</td>\n",
       "    </tr>\n",
       "    <tr>\n",
       "      <th>2</th>\n",
       "      <td>61287.06718</td>\n",
       "      <td>5.865890</td>\n",
       "      <td>8.512727</td>\n",
       "      <td>5.13</td>\n",
       "      <td>36882.15940</td>\n",
       "      <td>1.058988e+06</td>\n",
       "    </tr>\n",
       "    <tr>\n",
       "      <th>3</th>\n",
       "      <td>63345.24005</td>\n",
       "      <td>7.188236</td>\n",
       "      <td>5.586729</td>\n",
       "      <td>3.26</td>\n",
       "      <td>34310.24283</td>\n",
       "      <td>1.260617e+06</td>\n",
       "    </tr>\n",
       "    <tr>\n",
       "      <th>4</th>\n",
       "      <td>59982.19723</td>\n",
       "      <td>5.040555</td>\n",
       "      <td>7.839388</td>\n",
       "      <td>4.23</td>\n",
       "      <td>26354.10947</td>\n",
       "      <td>6.309435e+05</td>\n",
       "    </tr>\n",
       "  </tbody>\n",
       "</table>\n",
       "</div>"
      ],
      "text/plain": [
       "   Avg. Area Income  Avg. Area House Age  Avg. Area Number of Rooms   \n",
       "0       79545.45857             5.682861                   7.009188  \\\n",
       "1       79248.64245             6.002900                   6.730821   \n",
       "2       61287.06718             5.865890                   8.512727   \n",
       "3       63345.24005             7.188236                   5.586729   \n",
       "4       59982.19723             5.040555                   7.839388   \n",
       "\n",
       "   Avg. Area Number of Bedrooms  Area Population         Price  \n",
       "0                          4.09      23086.80050  1.059034e+06  \n",
       "1                          3.09      40173.07217  1.505891e+06  \n",
       "2                          5.13      36882.15940  1.058988e+06  \n",
       "3                          3.26      34310.24283  1.260617e+06  \n",
       "4                          4.23      26354.10947  6.309435e+05  "
      ]
     },
     "execution_count": 3,
     "metadata": {},
     "output_type": "execute_result"
    }
   ],
   "source": [
    "#use pandas read_csv function to read CSV file\n",
    "USAhousing = pd.read_csv('./datasets/USA_Housing_train.csv')\n",
    "#View first 5 records of dataset\n",
    "USAhousing.head()"
   ]
  },
  {
   "cell_type": "code",
   "execution_count": 4,
   "metadata": {},
   "outputs": [
    {
     "name": "stdout",
     "output_type": "stream",
     "text": [
      "<class 'pandas.core.frame.DataFrame'>\n",
      "RangeIndex: 4000 entries, 0 to 3999\n",
      "Data columns (total 6 columns):\n",
      " #   Column                        Non-Null Count  Dtype  \n",
      "---  ------                        --------------  -----  \n",
      " 0   Avg. Area Income              4000 non-null   float64\n",
      " 1   Avg. Area House Age           4000 non-null   float64\n",
      " 2   Avg. Area Number of Rooms     4000 non-null   float64\n",
      " 3   Avg. Area Number of Bedrooms  4000 non-null   float64\n",
      " 4   Area Population               4000 non-null   float64\n",
      " 5   Price                         4000 non-null   float64\n",
      "dtypes: float64(6)\n",
      "memory usage: 187.6 KB\n"
     ]
    }
   ],
   "source": [
    "#View information of dataset\n",
    "USAhousing.info()"
   ]
  },
  {
   "cell_type": "code",
   "execution_count": 5,
   "metadata": {},
   "outputs": [
    {
     "data": {
      "text/html": [
       "<div>\n",
       "<style scoped>\n",
       "    .dataframe tbody tr th:only-of-type {\n",
       "        vertical-align: middle;\n",
       "    }\n",
       "\n",
       "    .dataframe tbody tr th {\n",
       "        vertical-align: top;\n",
       "    }\n",
       "\n",
       "    .dataframe thead th {\n",
       "        text-align: right;\n",
       "    }\n",
       "</style>\n",
       "<table border=\"1\" class=\"dataframe\">\n",
       "  <thead>\n",
       "    <tr style=\"text-align: right;\">\n",
       "      <th></th>\n",
       "      <th>Avg. Area Income</th>\n",
       "      <th>Avg. Area House Age</th>\n",
       "      <th>Avg. Area Number of Rooms</th>\n",
       "      <th>Avg. Area Number of Bedrooms</th>\n",
       "      <th>Area Population</th>\n",
       "      <th>Price</th>\n",
       "    </tr>\n",
       "  </thead>\n",
       "  <tbody>\n",
       "    <tr>\n",
       "      <th>count</th>\n",
       "      <td>4000.000000</td>\n",
       "      <td>4000.000000</td>\n",
       "      <td>4000.000000</td>\n",
       "      <td>4000.000000</td>\n",
       "      <td>4000.000000</td>\n",
       "      <td>4.000000e+03</td>\n",
       "    </tr>\n",
       "    <tr>\n",
       "      <th>mean</th>\n",
       "      <td>68561.764989</td>\n",
       "      <td>5.982444</td>\n",
       "      <td>6.989255</td>\n",
       "      <td>3.974775</td>\n",
       "      <td>36279.220348</td>\n",
       "      <td>1.235349e+06</td>\n",
       "    </tr>\n",
       "    <tr>\n",
       "      <th>std</th>\n",
       "      <td>10693.493261</td>\n",
       "      <td>0.990669</td>\n",
       "      <td>1.004391</td>\n",
       "      <td>1.231435</td>\n",
       "      <td>9899.991119</td>\n",
       "      <td>3.544019e+05</td>\n",
       "    </tr>\n",
       "    <tr>\n",
       "      <th>min</th>\n",
       "      <td>17796.631190</td>\n",
       "      <td>2.644304</td>\n",
       "      <td>3.236194</td>\n",
       "      <td>2.000000</td>\n",
       "      <td>172.610686</td>\n",
       "      <td>1.593866e+04</td>\n",
       "    </tr>\n",
       "    <tr>\n",
       "      <th>25%</th>\n",
       "      <td>61474.294678</td>\n",
       "      <td>5.334776</td>\n",
       "      <td>6.308615</td>\n",
       "      <td>3.140000</td>\n",
       "      <td>29550.400770</td>\n",
       "      <td>9.997036e+05</td>\n",
       "    </tr>\n",
       "    <tr>\n",
       "      <th>50%</th>\n",
       "      <td>68655.504150</td>\n",
       "      <td>5.969464</td>\n",
       "      <td>7.001368</td>\n",
       "      <td>4.045000</td>\n",
       "      <td>36240.428580</td>\n",
       "      <td>1.237303e+06</td>\n",
       "    </tr>\n",
       "    <tr>\n",
       "      <th>75%</th>\n",
       "      <td>75781.049625</td>\n",
       "      <td>6.663936</td>\n",
       "      <td>7.665612</td>\n",
       "      <td>4.490000</td>\n",
       "      <td>43000.807275</td>\n",
       "      <td>1.469933e+06</td>\n",
       "    </tr>\n",
       "    <tr>\n",
       "      <th>max</th>\n",
       "      <td>107701.748400</td>\n",
       "      <td>9.519088</td>\n",
       "      <td>10.759588</td>\n",
       "      <td>6.500000</td>\n",
       "      <td>69592.040240</td>\n",
       "      <td>2.469066e+06</td>\n",
       "    </tr>\n",
       "  </tbody>\n",
       "</table>\n",
       "</div>"
      ],
      "text/plain": [
       "       Avg. Area Income  Avg. Area House Age  Avg. Area Number of Rooms   \n",
       "count       4000.000000          4000.000000                4000.000000  \\\n",
       "mean       68561.764989             5.982444                   6.989255   \n",
       "std        10693.493261             0.990669                   1.004391   \n",
       "min        17796.631190             2.644304                   3.236194   \n",
       "25%        61474.294678             5.334776                   6.308615   \n",
       "50%        68655.504150             5.969464                   7.001368   \n",
       "75%        75781.049625             6.663936                   7.665612   \n",
       "max       107701.748400             9.519088                  10.759588   \n",
       "\n",
       "       Avg. Area Number of Bedrooms  Area Population         Price  \n",
       "count                   4000.000000      4000.000000  4.000000e+03  \n",
       "mean                       3.974775     36279.220348  1.235349e+06  \n",
       "std                        1.231435      9899.991119  3.544019e+05  \n",
       "min                        2.000000       172.610686  1.593866e+04  \n",
       "25%                        3.140000     29550.400770  9.997036e+05  \n",
       "50%                        4.045000     36240.428580  1.237303e+06  \n",
       "75%                        4.490000     43000.807275  1.469933e+06  \n",
       "max                        6.500000     69592.040240  2.469066e+06  "
      ]
     },
     "execution_count": 5,
     "metadata": {},
     "output_type": "execute_result"
    }
   ],
   "source": [
    "#Descriptive statistics include those that summarize the central tendency, \n",
    "#dispersion and shape of a dataset’s distribution\n",
    "USAhousing.describe()"
   ]
  },
  {
   "cell_type": "code",
   "execution_count": 6,
   "metadata": {},
   "outputs": [
    {
     "name": "stdout",
     "output_type": "stream",
     "text": [
      "name 'cur' is not defined\n",
      "name 'cur' is not defined\n"
     ]
    }
   ],
   "source": [
    "#create traning table\n",
    "table = \"usa_housing_train\"\n",
    "try:\n",
    "    #execute the cursor\n",
    "    cur.execute(f\"DROP TABLE {table}\")\n",
    "    cur.execute(f\"CREATE TABLE {table} ( id INT(32) AUTO_INCREMENT PRIMARY KEY, AvgAreaIncome FLOAT, AvgAreaHouseAge FLOAT,AvgAreaRooms FLOAT,AvgAreaBedRooms FLOAT,AreaPopulation FLOAT,Price FLOAT)\")\n",
    "except Exception as e:\n",
    "    print(e)    \n",
    "\n",
    "#create validate table    \n",
    "table = \"usa_housing_validate\"    \n",
    "try:\n",
    "    #execute the cursor\n",
    "    cur.execute(f\"DROP TABLE {table}\")\n",
    "    cur.execute(f\"CREATE TABLE {table} ( id INT(32) AUTO_INCREMENT PRIMARY KEY, AvgAreaIncome FLOAT, AvgAreaHouseAge FLOAT,AvgAreaRooms FLOAT,AvgAreaBedRooms FLOAT,AreaPopulation FLOAT,Price FLOAT)\")\n",
    "except Exception as e:\n",
    "    print(e)        "
   ]
  },
  {
   "cell_type": "markdown",
   "metadata": {},
   "source": [
    "<div id=\"create\">\n",
    "    <h1>Create table and import data</h1>   \n",
    "</div>"
   ]
  },
  {
   "cell_type": "code",
   "execution_count": 7,
   "metadata": {},
   "outputs": [
    {
     "name": "stdout",
     "output_type": "stream",
     "text": [
      "Connected to IS SQL Cloud\n"
     ]
    }
   ],
   "source": [
    "#Create connection with InterSystems Cloud SQL\n",
    "import  utility\n",
    "connection = utility.get_db_connection()\n",
    "#open cursor\n",
    "try:\n",
    "    cur = connection.cursor()\n",
    "except:\n",
    "    print(\"Connection Cursor Error\")\n",
    "    \n",
    "print(\"Connected to IS SQL Cloud\")    "
   ]
  },
  {
   "cell_type": "markdown",
   "metadata": {},
   "source": [
    "## Import data"
   ]
  },
  {
   "cell_type": "code",
   "execution_count": 8,
   "metadata": {},
   "outputs": [],
   "source": [
    "#Read train data\n",
    "USAhousingTrain = pd.read_csv('./datasets/USA_Housing_train.csv')\n",
    "#Truncate table and insert records into the table\n",
    "#PLEASE NOTE THAT BASED ON THE DATA, IT MIGHT TOOK SOME TIME\n",
    "table = \"usa_housing_train\"  \n",
    "try:\n",
    "    cur.execute(f\"TRUNCATE TABLE {table}\")\n",
    "    for i in range(len(USAhousingTrain)):\n",
    "        cur.execute(f\"INSERT INTO {table} (AvgAreaIncome, AvgAreaHouseAge, AvgAreaRooms, AvgAreaBedRooms, AreaPopulation, Price) VALUES ({USAhousingTrain.iloc[i, 0]}, {USAhousingTrain.iloc[i, 1]}, {USAhousingTrain.iloc[i, 2]} , {USAhousingTrain.iloc[i, 3]}, {USAhousingTrain.iloc[i, 4]}, {USAhousingTrain.iloc[i, 5]})\")\n",
    "    #commit changes\n",
    "    connection.commit()\n",
    "except Exception as e:\n",
    "    print(e)      \n"
   ]
  },
  {
   "cell_type": "code",
   "execution_count": null,
   "metadata": {},
   "outputs": [],
   "source": [
    "#Read validate data\n",
    "USAhousingVal = pd.read_csv('./datasets/USA_Housing_validate.csv')\n",
    "#Truncate table and insert records into the table\n",
    "table = \"usa_housing_validate\"  \n",
    "try:\n",
    "    cur.execute(f\"TRUNCATE TABLE {table}\")\n",
    "    for i in range(len(USAhousingVal)):\n",
    "        cur.execute(f\"INSERT INTO {table} (AvgAreaIncome, AvgAreaHouseAge, AvgAreaRooms, AvgAreaBedRooms, AreaPopulation, Price) VALUES ({USAhousingTrain.iloc[i, 0]}, {USAhousingTrain.iloc[i, 1]}, {USAhousingTrain.iloc[i, 2]} , {USAhousingTrain.iloc[i, 3]}, {USAhousingTrain.iloc[i, 4]}, {USAhousingTrain.iloc[i, 5]})\")\n",
    "    #commit changes\n",
    "    connection.commit()\n",
    "except Exception as e:\n",
    "    print(e)      \n",
    "       "
   ]
  },
  {
   "cell_type": "markdown",
   "metadata": {},
   "source": [
    "<div id=\"cm\">\n",
    "    <h1>Create Model</h1>   \n",
    "</div>"
   ]
  },
  {
   "cell_type": "code",
   "execution_count": null,
   "metadata": {},
   "outputs": [],
   "source": [
    "#Create model by specifying model name, prediction column and train table\n",
    "modelName = \"USAHousingPriceModel\"\n",
    "dataColumn = \"Price\"\n",
    "dataTable= \"usa_housing_train\"\n",
    "#Create model by using cursor\n",
    "try:\n",
    "    cur.execute(f\"CREATE MODEL {modelName} PREDICTING ({dataColumn})  FROM {dataTable}\") \n",
    "except Exception as e:\n",
    "    print(e)         \n",
    "\n",
    "connection.commit()\n",
    "print('Model created')"
   ]
  },
  {
   "cell_type": "markdown",
   "metadata": {},
   "source": [
    "<div id=\"tm\">\n",
    "    <h1>Train Model</h1>   \n",
    "</div>"
   ]
  },
  {
   "cell_type": "code",
   "execution_count": null,
   "metadata": {},
   "outputs": [],
   "source": [
    "# Train model - PLease note it might take time based on number of records\n",
    "modelName = \"USAHousingPriceModel\"\n",
    "dataTable= \"usa_housing_train\"\n",
    "try:\n",
    "    cur.execute(f\"TRAIN MODEL {modelName} FROM {dataTable}\")\n",
    "except Exception as e:\n",
    "    print(e)  \n",
    "    \n",
    "connection.commit()\n",
    "print('Model Trained')"
   ]
  },
  {
   "cell_type": "markdown",
   "metadata": {},
   "source": [
    "<div id=\"vm\">\n",
    "    <h1>Validate Model</h1>   \n",
    "</div>"
   ]
  },
  {
   "cell_type": "code",
   "execution_count": null,
   "metadata": {},
   "outputs": [],
   "source": [
    "#Validate Model \n",
    "modelName = \"USAHousingPriceModel\"\n",
    "ValidationRunName = \"USAHousingPriceValidateuse\"\n",
    "TrainModelValidate=\"USAHousingPriceModel_t1\"\n",
    "TableToValidate = \"usa_housing_validate\"\n",
    "try:\n",
    "    cur.execute(f\"Validate model {modelName} As {ValidationRunName} use {TrainModelValidate} from {TableToValidate}\")\n",
    "except Exception as e:\n",
    "    print(e)  \n",
    "    \n",
    "connection.commit()\n",
    "print('Model Validated')"
   ]
  },
  {
   "cell_type": "markdown",
   "metadata": {},
   "source": [
    "#### Printing Validation Metrics"
   ]
  },
  {
   "cell_type": "code",
   "execution_count": null,
   "metadata": {},
   "outputs": [],
   "source": [
    "import utility\n",
    "modelName = \"USAHousingPriceModel\"\n",
    "ValidationRunName = \"USAHousingPriceValidateuse\"\n",
    "#get metrics values\n",
    "mse,rmse,var,r2 = utility.get_validation_metrics(modelName,ValidationRunName)\n",
    "print(\"Validation Metrics for Regression Models\")\n",
    "print(\"MSE = \"+ mse)\n",
    "print(\"RMSE = \"+ rmse)\n",
    "print(\"Variance = \"+ var)\n",
    "print(\"R2 = \"+ r2)\n",
    "cur.close()\n",
    "connection.close()"
   ]
  },
  {
   "cell_type": "markdown",
   "metadata": {},
   "source": [
    "When training the model, the accuracy is considered satisfactory if the R2 value is greater than 95%."
   ]
  },
  {
   "cell_type": "markdown",
   "metadata": {},
   "source": [
    "<div id=\"pr\">\n",
    "    <h1>Do Prediction</h1>   \n",
    "</div>"
   ]
  },
  {
   "cell_type": "code",
   "execution_count": null,
   "metadata": {},
   "outputs": [],
   "source": [
    "import  utility\n",
    "import pandas as pd\n",
    "#Create connection\n",
    "connection = utility.get_db_connection()\n",
    "#create cursot\n",
    "cur = connection.cursor()\n",
    "stat = \"SELECT TOP(100) PREDICT(USAHousingPriceModel use USAHousingPriceModel_t1) as prediction, Price, * FROM SQLUser.usa_housing_validate\"\n",
    "#excute statement\n",
    "cur.execute(stat)\n",
    "#Fetch all records\n",
    "data = cur.fetchall()\n",
    "#create dataframe based on the fetch records\n",
    "df = pd.DataFrame (data = data, columns = utility.get_cols(cur.description))\n",
    "#display first 5 records\n",
    "print(df.head())\n",
    "cur.close()\n",
    "connection.close()"
   ]
  },
  {
   "cell_type": "markdown",
   "metadata": {},
   "source": [
    "<div id=\"sm\">\n",
    "    <h1>Summary</h1>   \n",
    "</div>"
   ]
  },
  {
   "cell_type": "markdown",
   "metadata": {},
   "source": [
    "In this notebook we covered the following:\n",
    "- Explore USA Housing dataset\n",
    "- Created table by using IS Cloud Services and imported the data\n",
    "- Created Model\n",
    "- Trained Model\n",
    "- Validate Model\n",
    "- Done the Pridiction\n",
    "\n",
    "Thanks"
   ]
  },
  {
   "cell_type": "code",
   "execution_count": null,
   "metadata": {},
   "outputs": [],
   "source": []
  },
  {
   "cell_type": "code",
   "execution_count": null,
   "metadata": {},
   "outputs": [],
   "source": []
  }
 ],
 "metadata": {
  "kernelspec": {
   "display_name": "Python 3 (ipykernel)",
   "language": "python",
   "name": "python3"
  },
  "language_info": {
   "codemirror_mode": {
    "name": "ipython",
    "version": 3
   },
   "file_extension": ".py",
   "mimetype": "text/x-python",
   "name": "python",
   "nbconvert_exporter": "python",
   "pygments_lexer": "ipython3",
   "version": "3.10.10"
  }
 },
 "nbformat": 4,
 "nbformat_minor": 2
}
